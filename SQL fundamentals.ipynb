{
 "cells": [
  {
   "cell_type": "markdown",
   "id": "6a2233fe",
   "metadata": {},
   "source": [
    "# Bikestore Sales Data Analysis"
   ]
  },
  {
   "cell_type": "markdown",
   "id": "4ba1eb3b",
   "metadata": {},
   "source": [
    "## Objective \n",
    "\n",
    "Analyse sales data for a bike retail chain using SQL"
   ]
  },
  {
   "cell_type": "markdown",
   "id": "8da71ecf",
   "metadata": {},
   "source": [
    "## Entity Relationship Diagram\n",
    "\n",
    "insert schema diagram here"
   ]
  },
  {
   "cell_type": "code",
   "execution_count": 1,
   "id": "bffa4f22",
   "metadata": {},
   "outputs": [],
   "source": [
    "# import libraries\n",
    "\n",
    "import pandas as pd\n",
    "import sqlite3 \n",
    "import pymysql"
   ]
  },
  {
   "cell_type": "code",
   "execution_count": 2,
   "id": "73acd7f8",
   "metadata": {},
   "outputs": [],
   "source": [
    "#connect to sql database\n",
    "\n",
    "%load_ext sql\n",
    "\n",
    "# %sql mysql+pymysql//username:password@hostname/dbname"
   ]
  },
  {
   "cell_type": "markdown",
   "id": "7c4abb57",
   "metadata": {},
   "source": [
    "### 1. What is the total number of orders?"
   ]
  },
  {
   "cell_type": "code",
   "execution_count": 4,
   "id": "cbce106f",
   "metadata": {},
   "outputs": [
    {
     "data": {
      "text/html": [
       "<table>\n",
       "    <thead>\n",
       "        <tr>\n",
       "            <th>Total_orders</th>\n",
       "        </tr>\n",
       "    </thead>\n",
       "    <tbody>\n",
       "        <tr>\n",
       "            <td>1615</td>\n",
       "        </tr>\n",
       "    </tbody>\n",
       "</table>"
      ],
      "text/plain": [
       "[(1615,)]"
      ]
     },
     "execution_count": 4,
     "metadata": {},
     "output_type": "execute_result"
    }
   ],
   "source": [
    "%%capture --no-display\n",
    "%%sql \n",
    "\n",
    "select count(order_id) as Total_orders \n",
    "from sales_orders;"
   ]
  },
  {
   "cell_type": "markdown",
   "id": "7f29765b",
   "metadata": {},
   "source": [
    "### 2. What is the total number of orders for each year?"
   ]
  },
  {
   "cell_type": "code",
   "execution_count": 5,
   "id": "abccc86b",
   "metadata": {},
   "outputs": [
    {
     "data": {
      "text/html": [
       "<table>\n",
       "    <thead>\n",
       "        <tr>\n",
       "            <th>year</th>\n",
       "            <th>Total_orders</th>\n",
       "        </tr>\n",
       "    </thead>\n",
       "    <tbody>\n",
       "        <tr>\n",
       "            <td>2016</td>\n",
       "            <td>635</td>\n",
       "        </tr>\n",
       "        <tr>\n",
       "            <td>2017</td>\n",
       "            <td>688</td>\n",
       "        </tr>\n",
       "        <tr>\n",
       "            <td>2018</td>\n",
       "            <td>292</td>\n",
       "        </tr>\n",
       "    </tbody>\n",
       "</table>"
      ],
      "text/plain": [
       "[(2016, 635), (2017, 688), (2018, 292)]"
      ]
     },
     "execution_count": 5,
     "metadata": {},
     "output_type": "execute_result"
    }
   ],
   "source": [
    "%%capture --no-display\n",
    "%%sql\n",
    "\n",
    "select  year(order_date) as year, \n",
    "        count(order_id) as Total_orders \n",
    "from sales_orders\n",
    "group by year(order_date);"
   ]
  },
  {
   "cell_type": "markdown",
   "id": "81ae2ddc",
   "metadata": {},
   "source": [
    "\n",
    "\n",
    "Here we notice that sales orders in 2018 is significantly lower than the 2 previous years. One reason might be that\n",
    "we might not have the sales data for the whole of 2018. Let us check the last order date.\n"
   ]
  },
  {
   "cell_type": "markdown",
   "id": "708d7c59",
   "metadata": {},
   "source": [
    "###  3. When was the last Order placed?"
   ]
  },
  {
   "cell_type": "code",
   "execution_count": 6,
   "id": "2417dd4a",
   "metadata": {},
   "outputs": [
    {
     "data": {
      "text/html": [
       "<table>\n",
       "    <thead>\n",
       "        <tr>\n",
       "            <th>last_order_date</th>\n",
       "        </tr>\n",
       "    </thead>\n",
       "    <tbody>\n",
       "        <tr>\n",
       "            <td>2018-12-28</td>\n",
       "        </tr>\n",
       "    </tbody>\n",
       "</table>"
      ],
      "text/plain": [
       "[(datetime.date(2018, 12, 28),)]"
      ]
     },
     "execution_count": 6,
     "metadata": {},
     "output_type": "execute_result"
    }
   ],
   "source": [
    "%%capture --no-display\n",
    "%%sql\n",
    "\n",
    "select order_date as last_order_date \n",
    "from sales_orders\n",
    "order by order_date desc\n",
    "limit 1;"
   ]
  },
  {
   "cell_type": "markdown",
   "id": "47cc4f38",
   "metadata": {},
   "source": [
    "### 4. What is the number of items ordered for each order?"
   ]
  },
  {
   "cell_type": "code",
   "execution_count": 7,
   "id": "02bac46c",
   "metadata": {},
   "outputs": [
    {
     "data": {
      "text/html": [
       "<table>\n",
       "    <thead>\n",
       "        <tr>\n",
       "            <th>order_id</th>\n",
       "            <th>no_items_ordered</th>\n",
       "        </tr>\n",
       "    </thead>\n",
       "    <tbody>\n",
       "        <tr>\n",
       "            <td>1</td>\n",
       "            <td>8</td>\n",
       "        </tr>\n",
       "        <tr>\n",
       "            <td>2</td>\n",
       "            <td>3</td>\n",
       "        </tr>\n",
       "        <tr>\n",
       "            <td>3</td>\n",
       "            <td>2</td>\n",
       "        </tr>\n",
       "        <tr>\n",
       "            <td>4</td>\n",
       "            <td>2</td>\n",
       "        </tr>\n",
       "        <tr>\n",
       "            <td>5</td>\n",
       "            <td>4</td>\n",
       "        </tr>\n",
       "    </tbody>\n",
       "</table>"
      ],
      "text/plain": [
       "[(1, Decimal('8')),\n",
       " (2, Decimal('3')),\n",
       " (3, Decimal('2')),\n",
       " (4, Decimal('2')),\n",
       " (5, Decimal('4'))]"
      ]
     },
     "execution_count": 7,
     "metadata": {},
     "output_type": "execute_result"
    }
   ],
   "source": [
    "%%capture --no-display\n",
    "%%sql\n",
    "\n",
    "select s.order_id, sum(oi.quantity) as no_items_ordered\n",
    "from sales_orders s\n",
    "Join sales_order_items oi on s.order_id = oi.order_id\n",
    "group by s.order_id\n",
    "order by order_id\n",
    "limit 5;"
   ]
  },
  {
   "cell_type": "markdown",
   "id": "f080f177",
   "metadata": {},
   "source": [
    "### 5. Who are the top 3 customers based on purchase amount?"
   ]
  },
  {
   "cell_type": "code",
   "execution_count": 8,
   "id": "192eb099",
   "metadata": {},
   "outputs": [
    {
     "data": {
      "text/html": [
       "<table>\n",
       "    <thead>\n",
       "        <tr>\n",
       "            <th>customer</th>\n",
       "            <th>amount_purchased</th>\n",
       "        </tr>\n",
       "    </thead>\n",
       "    <tbody>\n",
       "        <tr>\n",
       "            <td>Pamelia Newman</td>\n",
       "            <td>37801.84</td>\n",
       "        </tr>\n",
       "        <tr>\n",
       "            <td>Abby Gamble</td>\n",
       "            <td>37500.89</td>\n",
       "        </tr>\n",
       "        <tr>\n",
       "            <td>Sharyn Hopkins</td>\n",
       "            <td>37138.86</td>\n",
       "        </tr>\n",
       "    </tbody>\n",
       "</table>"
      ],
      "text/plain": [
       "[('Pamelia Newman', Decimal('37801.84')),\n",
       " ('Abby Gamble', Decimal('37500.89')),\n",
       " ('Sharyn Hopkins', Decimal('37138.86'))]"
      ]
     },
     "execution_count": 8,
     "metadata": {},
     "output_type": "execute_result"
    }
   ],
   "source": [
    "%%capture --no-display\n",
    "%%sql\n",
    "\n",
    "select\n",
    "    concat(c.first_name,' ', c.Last_name) as 'customer',\n",
    "    sum(oi.quantity*oi.list_price) as amount_purchased\n",
    "from sales_orders s\n",
    "Join sales_order_items oi on s.order_id = oi.order_id\n",
    "Join sales_customers c on s.customer_id = c.customer_id\n",
    "group by s.customer_id\n",
    "order by sum(oi.quantity*oi.list_price) desc\n",
    "limit 3;"
   ]
  },
  {
   "cell_type": "markdown",
   "id": "267359d9",
   "metadata": {},
   "source": [
    "### 6. What was the maximum number of products shipped in a single order?\n",
    "\n",
    "- Using a Common Table Expression"
   ]
  },
  {
   "cell_type": "code",
   "execution_count": 18,
   "id": "8d648536",
   "metadata": {},
   "outputs": [
    {
     "data": {
      "text/html": [
       "<table>\n",
       "    <thead>\n",
       "        <tr>\n",
       "            <th>max_no_items_shipped</th>\n",
       "        </tr>\n",
       "    </thead>\n",
       "    <tbody>\n",
       "        <tr>\n",
       "            <td>10</td>\n",
       "        </tr>\n",
       "    </tbody>\n",
       "</table>"
      ],
      "text/plain": [
       "[(Decimal('10'),)]"
      ]
     },
     "execution_count": 18,
     "metadata": {},
     "output_type": "execute_result"
    }
   ],
   "source": [
    "%%capture --no-display\n",
    "%%sql\n",
    "\n",
    "with order_count AS(\n",
    "        select  s.order_id, sum(oi.quantity) as no_items_shipped\n",
    "        from sales_orders s\n",
    "        Join sales_order_items oi on s.order_id = oi.order_id\n",
    "        where shipped_date IS NOT NULL\n",
    "        group by s.order_id)\n",
    "\n",
    "select max(no_items_shipped) as max_no_items_shipped\n",
    "from order_count;"
   ]
  },
  {
   "cell_type": "markdown",
   "id": "ec09fc16",
   "metadata": {},
   "source": [
    "### 7. What is the rank of employees based on sales in 2018?\n",
    "\n",
    "- Using window fuction rank"
   ]
  },
  {
   "cell_type": "code",
   "execution_count": 10,
   "id": "a1934209",
   "metadata": {},
   "outputs": [
    {
     "data": {
      "text/html": [
       "<table>\n",
       "    <thead>\n",
       "        <tr>\n",
       "            <th>staff_id</th>\n",
       "            <th>sales_rep</th>\n",
       "            <th>amount_sold_2018</th>\n",
       "            <th>ranking</th>\n",
       "        </tr>\n",
       "    </thead>\n",
       "    <tbody>\n",
       "        <tr>\n",
       "            <td>7</td>\n",
       "            <td>Venita Daniel</td>\n",
       "            <td>695171.09</td>\n",
       "            <td>1</td>\n",
       "        </tr>\n",
       "        <tr>\n",
       "            <td>6</td>\n",
       "            <td>Marcelene Boyer</td>\n",
       "            <td>585473.24</td>\n",
       "            <td>2</td>\n",
       "        </tr>\n",
       "        <tr>\n",
       "            <td>3</td>\n",
       "            <td>Genna Serrano</td>\n",
       "            <td>277870.04</td>\n",
       "            <td>3</td>\n",
       "        </tr>\n",
       "        <tr>\n",
       "            <td>2</td>\n",
       "            <td>Mireya Copeland</td>\n",
       "            <td>253248.46</td>\n",
       "            <td>4</td>\n",
       "        </tr>\n",
       "        <tr>\n",
       "            <td>8</td>\n",
       "            <td>Kali Vargas</td>\n",
       "            <td>150034.96</td>\n",
       "            <td>5</td>\n",
       "        </tr>\n",
       "        <tr>\n",
       "            <td>9</td>\n",
       "            <td>Layla Terrell</td>\n",
       "            <td>62191.60</td>\n",
       "            <td>6</td>\n",
       "        </tr>\n",
       "    </tbody>\n",
       "</table>"
      ],
      "text/plain": [
       "[(7, 'Venita Daniel', Decimal('695171.09'), 1),\n",
       " (6, 'Marcelene Boyer', Decimal('585473.24'), 2),\n",
       " (3, 'Genna Serrano', Decimal('277870.04'), 3),\n",
       " (2, 'Mireya Copeland', Decimal('253248.46'), 4),\n",
       " (8, 'Kali Vargas', Decimal('150034.96'), 5),\n",
       " (9, 'Layla Terrell', Decimal('62191.60'), 6)]"
      ]
     },
     "execution_count": 10,
     "metadata": {},
     "output_type": "execute_result"
    }
   ],
   "source": [
    "%%capture --no-display\n",
    "%%sql\n",
    "\n",
    "with employee_sales AS(\n",
    "    select \n",
    "        st.staff_id,\n",
    "        concat(st.first_name,' ', st.Last_name) as 'Sales_rep',\n",
    "        sum(oi.quantity*oi.list_price) as amount_sold_2018\n",
    "    from sales_orders s\n",
    "    Join sales_order_items oi on s.order_id = oi.order_id\n",
    "    Join sales_staffs st on s.staff_id = st.staff_id\n",
    "    where year(order_date) = 2018\n",
    "    group by st.staff_id\n",
    "    )\n",
    "\n",
    "\n",
    "select \n",
    "    staff_id,\n",
    "    sales_rep,\n",
    "    amount_sold_2018,\n",
    "    RANK() OVER (ORDER BY amount_sold_2018 DESC) as ranking\n",
    "from employee_sales;\n",
    "\n"
   ]
  },
  {
   "cell_type": "markdown",
   "id": "f7a1078f",
   "metadata": {},
   "source": [
    "### 8. What are the top 2 selling products in each category?"
   ]
  },
  {
   "cell_type": "code",
   "execution_count": 14,
   "id": "f8a79392",
   "metadata": {},
   "outputs": [
    {
     "data": {
      "text/html": [
       "<table>\n",
       "    <thead>\n",
       "        <tr>\n",
       "            <th>category_name</th>\n",
       "            <th>product_name</th>\n",
       "            <th>no_units_sold</th>\n",
       "            <th>ranking</th>\n",
       "        </tr>\n",
       "    </thead>\n",
       "    <tbody>\n",
       "        <tr>\n",
       "            <td>Children Bicycles</td>\n",
       "            <td>Electra Girl&#x27;s Hawaii 1 (20-inch) - 2015/2016</td>\n",
       "            <td>154</td>\n",
       "            <td>1</td>\n",
       "        </tr>\n",
       "        <tr>\n",
       "            <td>Children Bicycles</td>\n",
       "            <td>Electra Girl&#x27;s Hawaii 1 (16-inch) - 2015/2016</td>\n",
       "            <td>145</td>\n",
       "            <td>2</td>\n",
       "        </tr>\n",
       "        <tr>\n",
       "            <td>Comfort Bicycles</td>\n",
       "            <td>Electra Townie Original 7D - 2015/2016</td>\n",
       "            <td>148</td>\n",
       "            <td>1</td>\n",
       "        </tr>\n",
       "        <tr>\n",
       "            <td>Comfort Bicycles</td>\n",
       "            <td>Electra Townie Original 21D - 2016</td>\n",
       "            <td>136</td>\n",
       "            <td>2</td>\n",
       "        </tr>\n",
       "        <tr>\n",
       "            <td>Cruisers Bicycles</td>\n",
       "            <td>Electra Cruiser 1 (24-Inch) - 2016</td>\n",
       "            <td>157</td>\n",
       "            <td>1</td>\n",
       "        </tr>\n",
       "        <tr>\n",
       "            <td>Cruisers Bicycles</td>\n",
       "            <td>Electra Townie Original 7D EQ - 2016</td>\n",
       "            <td>156</td>\n",
       "            <td>2</td>\n",
       "        </tr>\n",
       "        <tr>\n",
       "            <td>Cyclocross Bicycles</td>\n",
       "            <td>Surly Straggler 650b - 2016</td>\n",
       "            <td>151</td>\n",
       "            <td>1</td>\n",
       "        </tr>\n",
       "        <tr>\n",
       "            <td>Cyclocross Bicycles</td>\n",
       "            <td>Surly Straggler - 2016</td>\n",
       "            <td>147</td>\n",
       "            <td>2</td>\n",
       "        </tr>\n",
       "        <tr>\n",
       "            <td>Electric Bikes</td>\n",
       "            <td>Trek Conduit+ - 2016</td>\n",
       "            <td>145</td>\n",
       "            <td>1</td>\n",
       "        </tr>\n",
       "        <tr>\n",
       "            <td>Electric Bikes</td>\n",
       "            <td>Trek Powerfly 8 FS Plus - 2017</td>\n",
       "            <td>41</td>\n",
       "            <td>2</td>\n",
       "        </tr>\n",
       "        <tr>\n",
       "            <td>Mountain Bikes</td>\n",
       "            <td>Surly Ice Cream Truck Frameset - 2016</td>\n",
       "            <td>167</td>\n",
       "            <td>1</td>\n",
       "        </tr>\n",
       "        <tr>\n",
       "            <td>Mountain Bikes</td>\n",
       "            <td>Trek Slash 8 27.5 - 2016</td>\n",
       "            <td>154</td>\n",
       "            <td>2</td>\n",
       "        </tr>\n",
       "        <tr>\n",
       "            <td>Road Bikes</td>\n",
       "            <td>Trek Domane SLR 6 Disc - 2017</td>\n",
       "            <td>43</td>\n",
       "            <td>1</td>\n",
       "        </tr>\n",
       "        <tr>\n",
       "            <td>Road Bikes</td>\n",
       "            <td>Trek Emonda S 4 - 2017</td>\n",
       "            <td>42</td>\n",
       "            <td>2</td>\n",
       "        </tr>\n",
       "    </tbody>\n",
       "</table>"
      ],
      "text/plain": [
       "[('Children Bicycles', \"Electra Girl's Hawaii 1 (20-inch) - 2015/2016\", Decimal('154'), 1),\n",
       " ('Children Bicycles', \"Electra Girl's Hawaii 1 (16-inch) - 2015/2016\", Decimal('145'), 2),\n",
       " ('Comfort Bicycles', 'Electra Townie Original 7D - 2015/2016', Decimal('148'), 1),\n",
       " ('Comfort Bicycles', 'Electra Townie Original 21D - 2016', Decimal('136'), 2),\n",
       " ('Cruisers Bicycles', 'Electra Cruiser 1 (24-Inch) - 2016', Decimal('157'), 1),\n",
       " ('Cruisers Bicycles', 'Electra Townie Original 7D EQ - 2016', Decimal('156'), 2),\n",
       " ('Cyclocross Bicycles', 'Surly Straggler 650b - 2016', Decimal('151'), 1),\n",
       " ('Cyclocross Bicycles', 'Surly Straggler - 2016', Decimal('147'), 2),\n",
       " ('Electric Bikes', 'Trek Conduit+ - 2016', Decimal('145'), 1),\n",
       " ('Electric Bikes', 'Trek Powerfly 8 FS Plus - 2017', Decimal('41'), 2),\n",
       " ('Mountain Bikes', 'Surly Ice Cream Truck Frameset - 2016', Decimal('167'), 1),\n",
       " ('Mountain Bikes', 'Trek Slash 8 27.5 - 2016', Decimal('154'), 2),\n",
       " ('Road Bikes', 'Trek Domane SLR 6 Disc - 2017', Decimal('43'), 1),\n",
       " ('Road Bikes', 'Trek Emonda S 4 - 2017', Decimal('42'), 2)]"
      ]
     },
     "execution_count": 14,
     "metadata": {},
     "output_type": "execute_result"
    }
   ],
   "source": [
    "%%capture --no-display\n",
    "%%sql\n",
    "\n",
    "with units_sold AS(\n",
    "    select \n",
    "        p.product_name,\n",
    "        pc.category_name,\n",
    "        sum(oi.quantity) as no_units_sold,\n",
    "        RANK () OVER (PARTITION BY p.category_id ORDER BY sum(oi.quantity) DESC) as ranking\n",
    "    from sales_orders s\n",
    "    Join sales_order_items oi on s.order_id = oi.order_id\n",
    "    Join production_products p on oi.product_id = p.product_id\n",
    "    Join production_categories pc on p.category_id = pc.category_id\n",
    "    group by p.product_id\n",
    "    )\n",
    "\n",
    "\n",
    "select \n",
    "    category_name,\n",
    "    product_name,\n",
    "    no_units_sold,\n",
    "    ranking\n",
    "from units_sold\n",
    "where ranking < 3;\n"
   ]
  },
  {
   "cell_type": "markdown",
   "id": "f612c6c5",
   "metadata": {},
   "source": [
    "### 9. Generate a table to show who manages each employee?"
   ]
  },
  {
   "cell_type": "code",
   "execution_count": 19,
   "id": "cc38f720",
   "metadata": {},
   "outputs": [
    {
     "data": {
      "text/html": [
       "<table>\n",
       "    <thead>\n",
       "        <tr>\n",
       "            <th>Sales_rep</th>\n",
       "            <th>manager</th>\n",
       "        </tr>\n",
       "    </thead>\n",
       "    <tbody>\n",
       "        <tr>\n",
       "            <td>Fabiola Jackson</td>\n",
       "            <td>None</td>\n",
       "        </tr>\n",
       "        <tr>\n",
       "            <td>Mireya Copeland</td>\n",
       "            <td>Fabiola Jackson</td>\n",
       "        </tr>\n",
       "        <tr>\n",
       "            <td>Genna Serrano</td>\n",
       "            <td>Mireya Copeland</td>\n",
       "        </tr>\n",
       "        <tr>\n",
       "            <td>Virgie Wiggins</td>\n",
       "            <td>Mireya Copeland</td>\n",
       "        </tr>\n",
       "        <tr>\n",
       "            <td>Jannette David</td>\n",
       "            <td>Fabiola Jackson</td>\n",
       "        </tr>\n",
       "        <tr>\n",
       "            <td>Marcelene Boyer</td>\n",
       "            <td>Jannette David</td>\n",
       "        </tr>\n",
       "        <tr>\n",
       "            <td>Venita Daniel</td>\n",
       "            <td>Jannette David</td>\n",
       "        </tr>\n",
       "        <tr>\n",
       "            <td>Kali Vargas</td>\n",
       "            <td>Fabiola Jackson</td>\n",
       "        </tr>\n",
       "        <tr>\n",
       "            <td>Layla Terrell</td>\n",
       "            <td>Venita Daniel</td>\n",
       "        </tr>\n",
       "        <tr>\n",
       "            <td>Bernardine Houston</td>\n",
       "            <td>Venita Daniel</td>\n",
       "        </tr>\n",
       "    </tbody>\n",
       "</table>"
      ],
      "text/plain": [
       "[('Fabiola Jackson', None),\n",
       " ('Mireya Copeland', 'Fabiola Jackson'),\n",
       " ('Genna Serrano', 'Mireya Copeland'),\n",
       " ('Virgie Wiggins', 'Mireya Copeland'),\n",
       " ('Jannette David', 'Fabiola Jackson'),\n",
       " ('Marcelene Boyer', 'Jannette David'),\n",
       " ('Venita Daniel', 'Jannette David'),\n",
       " ('Kali Vargas', 'Fabiola Jackson'),\n",
       " ('Layla Terrell', 'Venita Daniel'),\n",
       " ('Bernardine Houston', 'Venita Daniel')]"
      ]
     },
     "execution_count": 19,
     "metadata": {},
     "output_type": "execute_result"
    }
   ],
   "source": [
    "%%capture --no-display\n",
    "%%sql\n",
    "\n",
    "SELECT\n",
    "    concat(e.first_name,' ', e.Last_name) as 'Sales_rep',\n",
    "    concat(m.first_name,' ', m.Last_name) as 'manager'\n",
    "from sales_staffs e\n",
    "LEFT JOIN sales_staffs m on e.manager_id = m.staff_id;"
   ]
  },
  {
   "cell_type": "markdown",
   "id": "5cd9b323",
   "metadata": {},
   "source": [
    "### 10. Running total for each month in 2017"
   ]
  },
  {
   "cell_type": "code",
   "execution_count": 21,
   "id": "e9208d07",
   "metadata": {},
   "outputs": [
    {
     "data": {
      "text/html": [
       "<table>\n",
       "    <thead>\n",
       "        <tr>\n",
       "            <th>month</th>\n",
       "            <th>sales_amount</th>\n",
       "            <th>running_total</th>\n",
       "        </tr>\n",
       "    </thead>\n",
       "    <tbody>\n",
       "        <tr>\n",
       "            <td>1</td>\n",
       "            <td>316954.77</td>\n",
       "            <td>316954.77</td>\n",
       "        </tr>\n",
       "        <tr>\n",
       "            <td>2</td>\n",
       "            <td>348740.47</td>\n",
       "            <td>665695.24</td>\n",
       "        </tr>\n",
       "        <tr>\n",
       "            <td>3</td>\n",
       "            <td>348177.13</td>\n",
       "            <td>1013872.37</td>\n",
       "        </tr>\n",
       "        <tr>\n",
       "            <td>4</td>\n",
       "            <td>254105.57</td>\n",
       "            <td>1267977.94</td>\n",
       "        </tr>\n",
       "        <tr>\n",
       "            <td>5</td>\n",
       "            <td>297754.66</td>\n",
       "            <td>1565732.60</td>\n",
       "        </tr>\n",
       "        <tr>\n",
       "            <td>6</td>\n",
       "            <td>419892.07</td>\n",
       "            <td>1985624.67</td>\n",
       "        </tr>\n",
       "        <tr>\n",
       "            <td>7</td>\n",
       "            <td>255727.63</td>\n",
       "            <td>2241352.30</td>\n",
       "        </tr>\n",
       "        <tr>\n",
       "            <td>8</td>\n",
       "            <td>322553.32</td>\n",
       "            <td>2563905.62</td>\n",
       "        </tr>\n",
       "        <tr>\n",
       "            <td>9</td>\n",
       "            <td>329388.68</td>\n",
       "            <td>2893294.30</td>\n",
       "        </tr>\n",
       "        <tr>\n",
       "            <td>10</td>\n",
       "            <td>345316.18</td>\n",
       "            <td>3238610.48</td>\n",
       "        </tr>\n",
       "        <tr>\n",
       "            <td>11</td>\n",
       "            <td>315881.67</td>\n",
       "            <td>3554492.15</td>\n",
       "        </tr>\n",
       "        <tr>\n",
       "            <td>12</td>\n",
       "            <td>291022.87</td>\n",
       "            <td>3845515.02</td>\n",
       "        </tr>\n",
       "    </tbody>\n",
       "</table>"
      ],
      "text/plain": [
       "[(1, Decimal('316954.77'), Decimal('316954.77')),\n",
       " (2, Decimal('348740.47'), Decimal('665695.24')),\n",
       " (3, Decimal('348177.13'), Decimal('1013872.37')),\n",
       " (4, Decimal('254105.57'), Decimal('1267977.94')),\n",
       " (5, Decimal('297754.66'), Decimal('1565732.60')),\n",
       " (6, Decimal('419892.07'), Decimal('1985624.67')),\n",
       " (7, Decimal('255727.63'), Decimal('2241352.30')),\n",
       " (8, Decimal('322553.32'), Decimal('2563905.62')),\n",
       " (9, Decimal('329388.68'), Decimal('2893294.30')),\n",
       " (10, Decimal('345316.18'), Decimal('3238610.48')),\n",
       " (11, Decimal('315881.67'), Decimal('3554492.15')),\n",
       " (12, Decimal('291022.87'), Decimal('3845515.02'))]"
      ]
     },
     "execution_count": 21,
     "metadata": {},
     "output_type": "execute_result"
    }
   ],
   "source": [
    "%%capture --no-display\n",
    "%%sql\n",
    "\n",
    "SELECT\n",
    "    month(order_date) as month,\n",
    "    sum(oi.quantity*oi.list_price) as sales_amount,\n",
    "    sum(sum(oi.quantity*oi.list_price)) over (ORDER BY month(order_date)) as running_total\n",
    "from sales_orders s\n",
    "Join sales_order_items oi on s.order_id = oi.order_id\n",
    "where year(order_date) = 2017\n",
    "group by month(order_date);"
   ]
  },
  {
   "cell_type": "markdown",
   "id": "9166e418",
   "metadata": {},
   "source": [
    "### 11. Moving Average for 2017 sales"
   ]
  },
  {
   "cell_type": "code",
   "execution_count": 23,
   "id": "cca7a8b8",
   "metadata": {},
   "outputs": [
    {
     "data": {
      "text/html": [
       "<table>\n",
       "    <thead>\n",
       "        <tr>\n",
       "            <th>month</th>\n",
       "            <th>sales_amount</th>\n",
       "            <th>monthly_avg</th>\n",
       "        </tr>\n",
       "    </thead>\n",
       "    <tbody>\n",
       "        <tr>\n",
       "            <td>1</td>\n",
       "            <td>316954.77</td>\n",
       "            <td>316954.77</td>\n",
       "        </tr>\n",
       "        <tr>\n",
       "            <td>2</td>\n",
       "            <td>348740.47</td>\n",
       "            <td>332847.62</td>\n",
       "        </tr>\n",
       "        <tr>\n",
       "            <td>3</td>\n",
       "            <td>348177.13</td>\n",
       "            <td>337957.46</td>\n",
       "        </tr>\n",
       "        <tr>\n",
       "            <td>4</td>\n",
       "            <td>254105.57</td>\n",
       "            <td>316994.49</td>\n",
       "        </tr>\n",
       "        <tr>\n",
       "            <td>5</td>\n",
       "            <td>297754.66</td>\n",
       "            <td>313146.52</td>\n",
       "        </tr>\n",
       "        <tr>\n",
       "            <td>6</td>\n",
       "            <td>419892.07</td>\n",
       "            <td>330937.45</td>\n",
       "        </tr>\n",
       "        <tr>\n",
       "            <td>7</td>\n",
       "            <td>255727.63</td>\n",
       "            <td>320193.19</td>\n",
       "        </tr>\n",
       "        <tr>\n",
       "            <td>8</td>\n",
       "            <td>322553.32</td>\n",
       "            <td>320488.20</td>\n",
       "        </tr>\n",
       "        <tr>\n",
       "            <td>9</td>\n",
       "            <td>329388.68</td>\n",
       "            <td>321477.14</td>\n",
       "        </tr>\n",
       "        <tr>\n",
       "            <td>10</td>\n",
       "            <td>345316.18</td>\n",
       "            <td>323861.05</td>\n",
       "        </tr>\n",
       "        <tr>\n",
       "            <td>11</td>\n",
       "            <td>315881.67</td>\n",
       "            <td>323135.65</td>\n",
       "        </tr>\n",
       "        <tr>\n",
       "            <td>12</td>\n",
       "            <td>291022.87</td>\n",
       "            <td>320459.59</td>\n",
       "        </tr>\n",
       "    </tbody>\n",
       "</table>"
      ],
      "text/plain": [
       "[(1, Decimal('316954.77'), Decimal('316954.77')),\n",
       " (2, Decimal('348740.47'), Decimal('332847.62')),\n",
       " (3, Decimal('348177.13'), Decimal('337957.46')),\n",
       " (4, Decimal('254105.57'), Decimal('316994.49')),\n",
       " (5, Decimal('297754.66'), Decimal('313146.52')),\n",
       " (6, Decimal('419892.07'), Decimal('330937.45')),\n",
       " (7, Decimal('255727.63'), Decimal('320193.19')),\n",
       " (8, Decimal('322553.32'), Decimal('320488.20')),\n",
       " (9, Decimal('329388.68'), Decimal('321477.14')),\n",
       " (10, Decimal('345316.18'), Decimal('323861.05')),\n",
       " (11, Decimal('315881.67'), Decimal('323135.65')),\n",
       " (12, Decimal('291022.87'), Decimal('320459.59'))]"
      ]
     },
     "execution_count": 23,
     "metadata": {},
     "output_type": "execute_result"
    }
   ],
   "source": [
    "%%capture --no-display\n",
    "%%sql\n",
    "\n",
    "SELECT\n",
    "    month(order_date) as month,\n",
    "    sum(oi.quantity*oi.list_price) as sales_amount,\n",
    "    round(avg(sum(oi.quantity*oi.list_price)) over (ORDER BY month(order_date)),2) as monthly_avg\n",
    "from sales_orders s\n",
    "Join sales_order_items oi on s.order_id = oi.order_id\n",
    "where year(order_date) = 2017\n",
    "group by month(order_date);"
   ]
  },
  {
   "cell_type": "markdown",
   "id": "95ab0b0a",
   "metadata": {},
   "source": [
    "### 12. Difference in sales amount from month to month"
   ]
  },
  {
   "cell_type": "code",
   "execution_count": 26,
   "id": "c0aea5dd",
   "metadata": {},
   "outputs": [
    {
     "data": {
      "text/html": [
       "<table>\n",
       "    <thead>\n",
       "        <tr>\n",
       "            <th>month</th>\n",
       "            <th>sales_amount</th>\n",
       "            <th>difference</th>\n",
       "        </tr>\n",
       "    </thead>\n",
       "    <tbody>\n",
       "        <tr>\n",
       "            <td>1</td>\n",
       "            <td>316954.77</td>\n",
       "            <td>None</td>\n",
       "        </tr>\n",
       "        <tr>\n",
       "            <td>2</td>\n",
       "            <td>348740.47</td>\n",
       "            <td>31785.70</td>\n",
       "        </tr>\n",
       "        <tr>\n",
       "            <td>3</td>\n",
       "            <td>348177.13</td>\n",
       "            <td>-563.34</td>\n",
       "        </tr>\n",
       "        <tr>\n",
       "            <td>4</td>\n",
       "            <td>254105.57</td>\n",
       "            <td>-94071.56</td>\n",
       "        </tr>\n",
       "        <tr>\n",
       "            <td>5</td>\n",
       "            <td>297754.66</td>\n",
       "            <td>43649.09</td>\n",
       "        </tr>\n",
       "        <tr>\n",
       "            <td>6</td>\n",
       "            <td>419892.07</td>\n",
       "            <td>122137.41</td>\n",
       "        </tr>\n",
       "        <tr>\n",
       "            <td>7</td>\n",
       "            <td>255727.63</td>\n",
       "            <td>-164164.44</td>\n",
       "        </tr>\n",
       "        <tr>\n",
       "            <td>8</td>\n",
       "            <td>322553.32</td>\n",
       "            <td>66825.69</td>\n",
       "        </tr>\n",
       "        <tr>\n",
       "            <td>9</td>\n",
       "            <td>329388.68</td>\n",
       "            <td>6835.36</td>\n",
       "        </tr>\n",
       "        <tr>\n",
       "            <td>10</td>\n",
       "            <td>345316.18</td>\n",
       "            <td>15927.50</td>\n",
       "        </tr>\n",
       "        <tr>\n",
       "            <td>11</td>\n",
       "            <td>315881.67</td>\n",
       "            <td>-29434.51</td>\n",
       "        </tr>\n",
       "        <tr>\n",
       "            <td>12</td>\n",
       "            <td>291022.87</td>\n",
       "            <td>-24858.80</td>\n",
       "        </tr>\n",
       "    </tbody>\n",
       "</table>"
      ],
      "text/plain": [
       "[(1, Decimal('316954.77'), None),\n",
       " (2, Decimal('348740.47'), Decimal('31785.70')),\n",
       " (3, Decimal('348177.13'), Decimal('-563.34')),\n",
       " (4, Decimal('254105.57'), Decimal('-94071.56')),\n",
       " (5, Decimal('297754.66'), Decimal('43649.09')),\n",
       " (6, Decimal('419892.07'), Decimal('122137.41')),\n",
       " (7, Decimal('255727.63'), Decimal('-164164.44')),\n",
       " (8, Decimal('322553.32'), Decimal('66825.69')),\n",
       " (9, Decimal('329388.68'), Decimal('6835.36')),\n",
       " (10, Decimal('345316.18'), Decimal('15927.50')),\n",
       " (11, Decimal('315881.67'), Decimal('-29434.51')),\n",
       " (12, Decimal('291022.87'), Decimal('-24858.80'))]"
      ]
     },
     "execution_count": 26,
     "metadata": {},
     "output_type": "execute_result"
    }
   ],
   "source": [
    "%%capture --no-display\n",
    "%%sql\n",
    "\n",
    "SELECT\n",
    "    month(order_date) as month,\n",
    "    sum(oi.quantity*oi.list_price) as sales_amount,\n",
    "    sum(oi.quantity*oi.list_price) - lag(sum(oi.quantity*oi.list_price)) over (ORDER BY month(order_date)) as difference\n",
    "from sales_orders s\n",
    "Join sales_order_items oi on s.order_id = oi.order_id\n",
    "where year(order_date) = 2017\n",
    "group by month(order_date);"
   ]
  },
  {
   "cell_type": "markdown",
   "id": "829fb23b",
   "metadata": {},
   "source": [
    "### 13. Generate a hierarchy using recursive queries"
   ]
  },
  {
   "cell_type": "code",
   "execution_count": 31,
   "id": "6d8252ea",
   "metadata": {},
   "outputs": [
    {
     "data": {
      "text/html": [
       "<table>\n",
       "    <thead>\n",
       "        <tr>\n",
       "            <th>staff_id</th>\n",
       "            <th>first_name</th>\n",
       "            <th>last_name</th>\n",
       "            <th>manager_id</th>\n",
       "        </tr>\n",
       "    </thead>\n",
       "    <tbody>\n",
       "        <tr>\n",
       "            <td>1</td>\n",
       "            <td>Fabiola</td>\n",
       "            <td>Jackson</td>\n",
       "            <td>None</td>\n",
       "        </tr>\n",
       "        <tr>\n",
       "            <td>2</td>\n",
       "            <td>Mireya</td>\n",
       "            <td>Copeland</td>\n",
       "            <td>1</td>\n",
       "        </tr>\n",
       "        <tr>\n",
       "            <td>5</td>\n",
       "            <td>Jannette</td>\n",
       "            <td>David</td>\n",
       "            <td>1</td>\n",
       "        </tr>\n",
       "        <tr>\n",
       "            <td>8</td>\n",
       "            <td>Kali</td>\n",
       "            <td>Vargas</td>\n",
       "            <td>1</td>\n",
       "        </tr>\n",
       "        <tr>\n",
       "            <td>3</td>\n",
       "            <td>Genna</td>\n",
       "            <td>Serrano</td>\n",
       "            <td>2</td>\n",
       "        </tr>\n",
       "        <tr>\n",
       "            <td>4</td>\n",
       "            <td>Virgie</td>\n",
       "            <td>Wiggins</td>\n",
       "            <td>2</td>\n",
       "        </tr>\n",
       "        <tr>\n",
       "            <td>6</td>\n",
       "            <td>Marcelene</td>\n",
       "            <td>Boyer</td>\n",
       "            <td>5</td>\n",
       "        </tr>\n",
       "        <tr>\n",
       "            <td>7</td>\n",
       "            <td>Venita</td>\n",
       "            <td>Daniel</td>\n",
       "            <td>5</td>\n",
       "        </tr>\n",
       "        <tr>\n",
       "            <td>9</td>\n",
       "            <td>Layla</td>\n",
       "            <td>Terrell</td>\n",
       "            <td>7</td>\n",
       "        </tr>\n",
       "        <tr>\n",
       "            <td>10</td>\n",
       "            <td>Bernardine</td>\n",
       "            <td>Houston</td>\n",
       "            <td>7</td>\n",
       "        </tr>\n",
       "    </tbody>\n",
       "</table>"
      ],
      "text/plain": [
       "[(1, 'Fabiola', 'Jackson', None),\n",
       " (2, 'Mireya', 'Copeland', 1),\n",
       " (5, 'Jannette', 'David', 1),\n",
       " (8, 'Kali', 'Vargas', 1),\n",
       " (3, 'Genna', 'Serrano', 2),\n",
       " (4, 'Virgie', 'Wiggins', 2),\n",
       " (6, 'Marcelene', 'Boyer', 5),\n",
       " (7, 'Venita', 'Daniel', 5),\n",
       " (9, 'Layla', 'Terrell', 7),\n",
       " (10, 'Bernardine', 'Houston', 7)]"
      ]
     },
     "execution_count": 31,
     "metadata": {},
     "output_type": "execute_result"
    }
   ],
   "source": [
    "%%capture --no-display\n",
    "%%sql\n",
    "\n",
    "with recursive hierarchy as (\n",
    "    select \n",
    "        staff_id,\n",
    "        first_name,\n",
    "        last_name,\n",
    "        manager_id\n",
    "    from sales_staffs\n",
    "    where staff_id = 1 -- id of CEO \n",
    "\n",
    "\n",
    "UNION ALL\n",
    "    select \n",
    "        st.staff_id,\n",
    "        st.first_name,\n",
    "        st.last_name,\n",
    "        st.manager_id\n",
    "    from sales_staffs st\n",
    "    JOIN hierarchy h on st.manager_id = h.staff_id\n",
    ")\n",
    "\n",
    "\n",
    "select \n",
    "        staff_id,\n",
    "        first_name,\n",
    "        last_name,\n",
    "        manager_id\n",
    "from hierarchy;\n",
    "    "
   ]
  },
  {
   "cell_type": "markdown",
   "id": "1a8037b4",
   "metadata": {},
   "source": [
    "### 14. Number of consecutive days with at least one order"
   ]
  },
  {
   "cell_type": "code",
   "execution_count": 35,
   "id": "129c99c9",
   "metadata": {},
   "outputs": [
    {
     "data": {
      "text/html": [
       "<table>\n",
       "    <thead>\n",
       "        <tr>\n",
       "            <th>start_date</th>\n",
       "            <th>end_date</th>\n",
       "            <th>no_consecutive_days</th>\n",
       "        </tr>\n",
       "    </thead>\n",
       "    <tbody>\n",
       "        <tr>\n",
       "            <td>2016-01-01</td>\n",
       "            <td>2016-01-06</td>\n",
       "            <td>6</td>\n",
       "        </tr>\n",
       "        <tr>\n",
       "            <td>2016-01-08</td>\n",
       "            <td>2016-01-09</td>\n",
       "            <td>2</td>\n",
       "        </tr>\n",
       "        <tr>\n",
       "            <td>2016-01-12</td>\n",
       "            <td>2016-01-12</td>\n",
       "            <td>1</td>\n",
       "        </tr>\n",
       "        <tr>\n",
       "            <td>2016-01-14</td>\n",
       "            <td>2016-01-16</td>\n",
       "            <td>3</td>\n",
       "        </tr>\n",
       "        <tr>\n",
       "            <td>2016-01-18</td>\n",
       "            <td>2016-01-23</td>\n",
       "            <td>6</td>\n",
       "        </tr>\n",
       "        <tr>\n",
       "            <td>2016-01-25</td>\n",
       "            <td>2016-01-25</td>\n",
       "            <td>1</td>\n",
       "        </tr>\n",
       "        <tr>\n",
       "            <td>2016-01-27</td>\n",
       "            <td>2016-01-31</td>\n",
       "            <td>5</td>\n",
       "        </tr>\n",
       "        <tr>\n",
       "            <td>2016-02-01</td>\n",
       "            <td>2016-02-01</td>\n",
       "            <td>1</td>\n",
       "        </tr>\n",
       "        <tr>\n",
       "            <td>2016-02-03</td>\n",
       "            <td>2016-02-14</td>\n",
       "            <td>12</td>\n",
       "        </tr>\n",
       "        <tr>\n",
       "            <td>2016-02-16</td>\n",
       "            <td>2016-02-21</td>\n",
       "            <td>6</td>\n",
       "        </tr>\n",
       "    </tbody>\n",
       "</table>"
      ],
      "text/plain": [
       "[(datetime.date(2016, 1, 1), datetime.date(2016, 1, 6), 6),\n",
       " (datetime.date(2016, 1, 8), datetime.date(2016, 1, 9), 2),\n",
       " (datetime.date(2016, 1, 12), datetime.date(2016, 1, 12), 1),\n",
       " (datetime.date(2016, 1, 14), datetime.date(2016, 1, 16), 3),\n",
       " (datetime.date(2016, 1, 18), datetime.date(2016, 1, 23), 6),\n",
       " (datetime.date(2016, 1, 25), datetime.date(2016, 1, 25), 1),\n",
       " (datetime.date(2016, 1, 27), datetime.date(2016, 1, 31), 5),\n",
       " (datetime.date(2016, 2, 1), datetime.date(2016, 2, 1), 1),\n",
       " (datetime.date(2016, 2, 3), datetime.date(2016, 2, 14), 12),\n",
       " (datetime.date(2016, 2, 16), datetime.date(2016, 2, 21), 6)]"
      ]
     },
     "execution_count": 35,
     "metadata": {},
     "output_type": "execute_result"
    }
   ],
   "source": [
    "%%capture --no-display\n",
    "%%sql\n",
    "\n",
    "with order_streak AS(\n",
    "    select \n",
    "        order_date,\n",
    "        order_date - Dense_rank() over (order by order_date) as streak_id\n",
    "        from sales_orders\n",
    ")\n",
    "\n",
    "select \n",
    "    MIN(order_date) as start_date,\n",
    "    Max(order_date) as end_date,\n",
    "    Max(order_date) - Min(order_date) + 1 no_consecutive_days\n",
    "from order_streak\n",
    "Group by streak_id\n",
    "Order by start_date\n",
    "Limit 10;"
   ]
  },
  {
   "cell_type": "markdown",
   "id": "0a88a58f",
   "metadata": {},
   "source": [
    "#### note: \n",
    " \n",
    "Since consecutives dates differ by one day their dense rank will also differ by one. Therefore the following calculation: \n",
    "\n",
    "order_date - Dense_rank() over (order by order_date) as streak_id\n",
    "\n",
    "assign the same streak_id number to consecutive days."
   ]
  },
 ],
 "metadata": {
  "kernelspec": {
   "display_name": "Python 3 (ipykernel)",
   "language": "python",
   "name": "python3"
  },
  "language_info": {
   "codemirror_mode": {
    "name": "ipython",
    "version": 3
   },
   "file_extension": ".py",
   "mimetype": "text/x-python",
   "name": "python",
   "nbconvert_exporter": "python",
   "pygments_lexer": "ipython3",
   "version": "3.10.9"
  }
 },
 "nbformat": 4,
 "nbformat_minor": 5
}
